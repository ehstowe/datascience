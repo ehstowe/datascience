{
  "nbformat": 4,
  "nbformat_minor": 0,
  "metadata": {
    "colab": {
      "name": "PredictingFire.ipynb",
      "provenance": [],
      "collapsed_sections": [],
      "toc_visible": true,
      "authorship_tag": "ABX9TyOgb5z6hRw2+CGSd/LnB05s",
      "include_colab_link": true
    },
    "kernelspec": {
      "name": "python3",
      "display_name": "Python 3"
    }
  },
  "cells": [
    {
      "cell_type": "markdown",
      "metadata": {
        "id": "view-in-github",
        "colab_type": "text"
      },
      "source": [
        "<a href=\"https://colab.research.google.com/github/ehstowe/datascience/blob/main/PredictingFire.ipynb\" target=\"_parent\"><img src=\"https://colab.research.google.com/assets/colab-badge.svg\" alt=\"Open In Colab\"/></a>"
      ]
    },
    {
      "cell_type": "markdown",
      "metadata": {
        "id": "1mihT3BbhVw5"
      },
      "source": [
        "#Final Project: Predicting Fire"
      ]
    },
    {
      "cell_type": "markdown",
      "metadata": {
        "id": "VPp0ZhnQ81ha"
      },
      "source": [
        "Emma Stowe  \n",
        "DSC 305a SP20  \n",
        "Final Project: Predicting Fire\n"
      ]
    },
    {
      "cell_type": "markdown",
      "metadata": {
        "id": "RyBRzrnf8_Be"
      },
      "source": [
        "#Summary\n",
        "This project is an analysis of data collected by the City of Detroit regarding fires in 2015. The data includes the time and date of almost 20,000 emergency calls, the geographic coordinates of the location the call was made from, the type of structure the call is reporting from (single family home, apartment building, business, school, etc), the time and date of dispatch, time and date of the crew's arrival to the scene, time and date the scene was cleared, and any injuries  or fatalities reported. The part of the dataset I chose to focus on was the recording of false alarms. \n",
        "\n",
        "I wanted to investigate this question: Can we predict false alarms when they are made? False alarms cost fire departments - and therefore, taxpayers - billions of dollars each year. With a perfect model, much of this money could be better spent. Even an imperfect model could help fire departments know how to best allocate their resources, sending less experienced crews or less equipped trucks to the scene. Finally, if the results were generalizable, this could greatly help fire stations in more rural areas where they may only have one or two firetrucks for a large service area. \n",
        "\n",
        "I tried many models in an attempt to find one to classify a call as a False Alarm or Not a False Alarm. I was not able to find a perfect one, but some are better than others. My best models are a Random Forest Classifier and a Gradient Boosting Classifier, both with tuned hyperparameters. \n",
        "\n",
        "A major challenge of this problem is that the data is highly skewed. There are significantly more non-false alarms (I considered these the negative class) than false alarms (positive class). That means that models that classify all calls as non-false alarms have relatively high accuracy. This is the idea that fire departments currently work with, so I wanted to do better. Still, I recognize that a false positive (predicting a call was a false alarm when it was not) has an extreme cost in this case, much more than a false negative (predicting a call was not a false alarm when it was). So, I created a new benchmark, combining precision and recall like F1 score does, but giving more weight to precision because a higher precision means fewer false positives. My benchmark weights precision at .75 and recall at .25. \n"
      ]
    },
    {
      "cell_type": "markdown",
      "metadata": {
        "id": "DPujvAq483JG"
      },
      "source": [
        "The following functions are included in the \"General Functions\" code cell: \n",
        "</ul>\n",
        "<li>Binarizing a column: takes in a column name and a dataframe and adds all necessary columns to the dataframe</li>\n",
        "<li>Evaluate binary: takes in the true values and the predicted values and displays a confusion matrix and prints the accuracy, precision, recall, F1, and benchmark scores, as well as area under the ROC curve.</li>\n",
        "<li>Run classifier: takes a classifier and training and testing data and runs that classifier on the data, then appends the values for accuracy, precision, recall, F1, benchmark, and area under the ROC curve onto their respective arrays.</li>\n",
        "<li>Show max stats: takes training and testing data, empty arrays accuracy, precision, recall, F1, and benchmark, area under the ROC curve, and a list of classifiers and runs each classifier in the list through the 'run classifier' function, outputs the classifier with the highest value in each array. </li>"
      ]
    },
    {
      "cell_type": "code",
      "metadata": {
        "id": "rsO8mnSbUJIZ",
        "outputId": "79d4ff72-2eaf-40c9-d649-d2f48d611429",
        "colab": {
          "base_uri": "https://localhost:8080/",
          "height": 72
        }
      },
      "source": [
        "#@title Import Statements\n",
        "import math\n",
        "import numpy as np\n",
        "import pandas as pd\n",
        "import matplotlib.pyplot as plt\n",
        "import seaborn as sns; sns.set()\n",
        "from sklearn.linear_model import LinearRegression\n",
        "from sklearn.linear_model import LogisticRegression\n",
        "from sklearn.preprocessing import MinMaxScaler\n",
        "from sklearn.preprocessing import StandardScaler\n",
        "from sklearn.model_selection import train_test_split\n",
        "from sklearn.metrics import accuracy_score, classification_report, confusion_matrix\n",
        "from sklearn import datasets, svm, metrics\n",
        "import statsmodels.api as sm\n",
        "import statsmodels.formula.api as smf\n",
        "from sklearn.utils import resample \n",
        "from sklearn.ensemble import RandomForestClassifier\n",
        "from numpy import nan\n",
        "from sklearn.naive_bayes import GaussianNB\n",
        "from sklearn.naive_bayes import BernoulliNB\n",
        "from sklearn.tree import DecisionTreeClassifier\n",
        "from sklearn.ensemble import BaggingClassifier\n",
        "from sklearn.ensemble import ExtraTreesClassifier\n",
        "from sklearn import svm\n",
        "from sklearn.linear_model import Perceptron\n",
        "from sklearn.discriminant_analysis import LinearDiscriminantAnalysis as LDA\n",
        "from sklearn.neural_network import MLPClassifier\n",
        "from sklearn.ensemble import AdaBoostClassifier as ABC\n",
        "from sklearn.ensemble import GradientBoostingClassifier as GBC\n",
        "from sklearn.linear_model import Perceptron\n",
        "from sklearn.neighbors import NearestCentroid as NC\n",
        "from sklearn.multiclass import OneVsRestClassifier as OVRC"
      ],
      "execution_count": null,
      "outputs": [
        {
          "output_type": "stream",
          "text": [
            "/usr/local/lib/python3.6/dist-packages/statsmodels/tools/_testing.py:19: FutureWarning: pandas.util.testing is deprecated. Use the functions in the public API at pandas.testing instead.\n",
            "  import pandas.util.testing as tm\n"
          ],
          "name": "stderr"
        }
      ]
    },
    {
      "cell_type": "code",
      "metadata": {
        "id": "JqW2Q1fektZp"
      },
      "source": [
        "#@title General Functions\n",
        "def go_through_set(colName, df):\n",
        "    for x in set(df[colName]):\n",
        "        x = str(x)\n",
        "        create_new_col(x, colName, x, df)\n",
        "def create_new_col(newColName, oldColName, whatIs1, df):\n",
        "    df[newColName]=df[oldColName].apply(lambda x: 1 if(x==whatIs1) else 0)\n",
        "\n",
        "def evaluate_binary(y_true, y_pred):\n",
        "  data = confusion_matrix(y_true, y_pred)\n",
        "  df_cm = pd.DataFrame(data, columns=np.unique(y_true), index = np.unique(y_true))\n",
        "  df_cm.index.name = 'Actual'\n",
        "  df_cm.columns.name = 'Predicted'\n",
        "  plt.figure(figsize = (6,2))\n",
        "  sns.set(font_scale=1)#for label size\n",
        "  sns.heatmap(df_cm, cmap=\"Blues\", annot=True,annot_kws={\"size\": 16}, fmt='g')\n",
        "  print(\"---------------------------------------------------\")\n",
        "  accuracy_clf=float(str(metrics.accuracy_score(y_test, y_pred))[0:6])\n",
        "  precision_clf=float(str(metrics.precision_score(y_test, y_pred, pos_label=1))[0:6])\n",
        "  recall_clf=float(str(metrics.recall_score(y_test, y_pred))[0:6])\n",
        "  f1_clf=float(str(metrics.f1_score(y_test, y_pred))[0:6])\n",
        "  benchmark_clf=float(str((precision_clf*3+recall_clf)/4)[0:6])\n",
        "  auc_clf=float(str(metrics.roc_auc_score(y_true, y_pred, average='macro', sample_weight=None, max_fpr=None, multi_class='raise', labels=None))[0:6])\n",
        "  print('Accuracy: ',accuracy_clf)\n",
        "  print('Precision: ',precision_clf)\n",
        "  print('Recall: ',recall_clf)\n",
        "  print('F1: ', f1_clf)\n",
        "  print('Benchmark:', benchmark_clf)\n",
        "  print('AUC:',auc_clf)\n",
        "  print(\"---------------------------------------------------\")\n",
        "\n",
        "\n",
        "def run_classifier(clf, X_train0, X_test0, y_train0, y_test0):\n",
        "  model=clf()\n",
        "  model.fit(X_train0, y_train0)\n",
        "  y_pred=model.predict(X_test0)\n",
        "  accuracy_clf=float(str(metrics.accuracy_score(y_test0, y_pred))[0:6])\n",
        "  precision_clf=float(str(metrics.precision_score(y_test0, y_pred, pos_label=1))[0:6])\n",
        "  recall_clf=float(str(metrics.recall_score(y_test0, y_pred))[0:6])\n",
        "  f1_clf=float(str(metrics.f1_score(y_test0, y_pred))[0:6])\n",
        "  benchmark_clf=float(str((precision_clf*3+recall_clf)/4)[0:6])\n",
        "  auc_clf=float(str(metrics.roc_auc_score(y_test0, y_pred, average='macro', sample_weight=None, max_fpr=None, multi_class='raise', labels=None))[0:6])\n",
        "  model_name = type(model).__name__\n",
        "  accuracy.append(accuracy_clf)\n",
        "  precision.append(precision_clf)\n",
        "  recall.append(recall_clf)\n",
        "  f1.append(f1_clf)  \n",
        "  benchmark.append(benchmark_clf)\n",
        "  auc.append(auc_clf)\n",
        "\n",
        "def show_max_stats(X_train0, X_test0, y_train0, y_test0, classifiers, accuracy, precision, recall, f1, benchmark, auc):\n",
        "  stats = [accuracy, precision, recall, f1, benchmark, auc]\n",
        "  stats_strings=['accuracy', 'precision', 'recall', 'f1', 'benchmark', 'auc']\n",
        "  classifier_strings=['LogisticRegression', 'RandomForestClassifier', 'GaussianNB', 'BernoulliNB', 'DecisionTreeClassifier', 'BaggingClassifier', 'ExtraTreesClassifier', 'svm.SVC', 'Perceptron', 'LDA', 'MLPClassifier', 'ABC', 'GBC', 'Perceptron']\n",
        "  for clf in classifiers:\n",
        "    run_classifier(clf, X_train0, X_test0, y_train0, y_test0) \n",
        "\n",
        "  print('----------------------------------------------------------')\n",
        "\n",
        "  for measure in range(6):\n",
        "    counter=0\n",
        "    i_max=0\n",
        "    i_max=stats[measure][0]\n",
        "    i_max_index=0\n",
        "    for x in stats[measure]:\n",
        "      if x>i_max:\n",
        "        i_max=x\n",
        "        i_max_index=counter\n",
        "        model=classifier_strings[i_max_index]\n",
        "      counter=counter+1\n",
        "      \n",
        "    print('max '+stats_strings[measure]+'='+model+' at '+str(i_max))\n",
        "\n",
        "  print('----------------------------------------------------------')"
      ],
      "execution_count": null,
      "outputs": []
    },
    {
      "cell_type": "markdown",
      "metadata": {
        "id": "tN4njI_9A8dB"
      },
      "source": [
        "#Data Exploration and Preparation"
      ]
    },
    {
      "cell_type": "code",
      "metadata": {
        "id": "_BDlbzl8PdnJ"
      },
      "source": [
        ""
      ],
      "execution_count": null,
      "outputs": []
    },
    {
      "cell_type": "code",
      "metadata": {
        "id": "ZZZ1RFzcHtXj",
        "cellView": "form",
        "outputId": "26588c47-b998-47e8-bd3c-1ca74e80df18",
        "colab": {
          "base_uri": "https://localhost:8080/",
          "height": 438
        }
      },
      "source": [
        "#@title Reading and Cleaning Data\n",
        "def clean_fireData(fire):  \n",
        "  #drop duplicates\n",
        "  duplicates = fire.duplicated(subset=None, keep='first')\n",
        "  fire=fire.drop_duplicates()\n",
        "\n",
        "  #drop columns missing lots of data\n",
        "  fire = fire.drop(columns=['DETECTOR', 'STRUCTURE STATUS'])\n",
        "\n",
        "  #drop rows with missing data (not many, once columns are removed above)\n",
        "  #fire = fire.dropna()\n",
        "\n",
        "  #convert necessary columns to datetime objects\n",
        "  cols_to_convert_to_datetime = ['DATE OF CALL', 'TIME OF CALL', 'DATE OF DISPATCH', 'TIME OF DISPATCH', 'DATE OF ARRIVAL', 'TIME OF ARRIVAL', 'DATE UNIT CLEARED', 'TIME UNIT CLEARED']\n",
        "  for col in cols_to_convert_to_datetime:\n",
        "    fire[col]=pd.to_datetime(fire[col])\n",
        "\n",
        "  #make broader categories of property use\n",
        "  fire['PROPERTY_USE_GENERAL']=fire['PROPERTY USE'].apply(lambda x: x if checkIfInTopPlaces(x)==True else 'Other')\n",
        "\n",
        "  #binarize property use broader categories\n",
        "  go_through_set('PROPERTY_USE_GENERAL', fire)\n",
        "\n",
        "  #create new columns for hour and month of call\n",
        "  fire['CALL HOUR']=fire['TIME OF CALL'].apply(lambda x: x.hour)\n",
        "  fire['CALL MONTH']=fire['DATE OF CALL'].apply(lambda x: x.month)\n",
        "  fire['CALL DAY OF WEEK']=fire['DATE OF CALL'].apply(lambda x: x.dayofweek)\n",
        "\n",
        "  return fire\n",
        "\n",
        "\n",
        "fire = pd.read_csv('fire.csv')\n",
        "\n",
        "props = fire['PROPERTY USE']\n",
        "counts = props.value_counts()\n",
        "counts.to_string()\n",
        "topPlaces = counts[0:30]\n",
        "topPlacesDf = pd.DataFrame(topPlaces)\n",
        "topPlacesDf['Property Type']=topPlacesDf.index\n",
        "topPlacesDf['Count']=topPlacesDf['PROPERTY USE']\n",
        "topPlacesDf = topPlacesDf.drop(columns='PROPERTY USE')\n",
        "topPlacesDf = topPlacesDf.drop(index='Property Use, other')\n",
        "def checkIfInTopPlaces(x):\n",
        "  for place in topPlacesDf['Property Type']:\n",
        "    if x==place:\n",
        "      return True\n",
        "  return False\n",
        "\n",
        "fire = clean_fireData(fire)\n",
        "fire.head(3)"
      ],
      "execution_count": null,
      "outputs": [
        {
          "output_type": "execute_result",
          "data": {
            "text/html": [
              "<div>\n",
              "<style scoped>\n",
              "    .dataframe tbody tr th:only-of-type {\n",
              "        vertical-align: middle;\n",
              "    }\n",
              "\n",
              "    .dataframe tbody tr th {\n",
              "        vertical-align: top;\n",
              "    }\n",
              "\n",
              "    .dataframe thead th {\n",
              "        text-align: right;\n",
              "    }\n",
              "</style>\n",
              "<table border=\"1\" class=\"dataframe\">\n",
              "  <thead>\n",
              "    <tr style=\"text-align: right;\">\n",
              "      <th></th>\n",
              "      <th>EXPOSURE</th>\n",
              "      <th>ADDRESS</th>\n",
              "      <th>INCIDENT #</th>\n",
              "      <th>INCIDENT TYPE</th>\n",
              "      <th>INCIDENT TYPE CATEGORY</th>\n",
              "      <th>PROPERTY USE</th>\n",
              "      <th>ENGINE AREA</th>\n",
              "      <th>DATE OF CALL</th>\n",
              "      <th>TIME OF CALL</th>\n",
              "      <th>DATE OF DISPATCH</th>\n",
              "      <th>TIME OF DISPATCH</th>\n",
              "      <th>DATE OF ARRIVAL</th>\n",
              "      <th>TIME OF ARRIVAL</th>\n",
              "      <th>DATE UNIT CLEARED</th>\n",
              "      <th>TIME UNIT CLEARED</th>\n",
              "      <th>CIVILIAN INJURY</th>\n",
              "      <th>CIVILIAN FATALITY</th>\n",
              "      <th>FIRE PERSONNEL INJURY</th>\n",
              "      <th>FIRE PERSONNEL FATALITY</th>\n",
              "      <th>X</th>\n",
              "      <th>Y</th>\n",
              "      <th>LOCATION</th>\n",
              "      <th>PROPERTY_USE_GENERAL</th>\n",
              "      <th>Other</th>\n",
              "      <th>Motor vehicle or boat sales, services, r</th>\n",
              "      <th>High school/junior high school/middle sc</th>\n",
              "      <th>Service station, gas station</th>\n",
              "      <th>Parking garage, (detached residential ga</th>\n",
              "      <th>Church, mosque, synagogue, temple, chape</th>\n",
              "      <th>Convenience store</th>\n",
              "      <th>Manufacturing, processing</th>\n",
              "      <th>Highway or divided highway</th>\n",
              "      <th>Street, other</th>\n",
              "      <th>Mercantile, business, other</th>\n",
              "      <th>24-hour care Nursing homes, 4 or more pe</th>\n",
              "      <th>Warehouse</th>\n",
              "      <th>Elementary school, including kindergarte</th>\n",
              "      <th>Residential street, road or residential</th>\n",
              "      <th>Vehicle parking area</th>\n",
              "      <th>Restaurant or cafeteria</th>\n",
              "      <th>Vacant lot</th>\n",
              "      <th>Open land or field</th>\n",
              "      <th>Residential, other</th>\n",
              "      <th>Business office</th>\n",
              "      <th>Schools, non-adult</th>\n",
              "      <th>Undetermined</th>\n",
              "      <th>Bar or nightclub</th>\n",
              "      <th>Street or road in commercial area</th>\n",
              "      <th>Outside or special property, other</th>\n",
              "      <th>Hotel/motel, commercial</th>\n",
              "      <th>Food and beverage sales, grocery store</th>\n",
              "      <th>1 or 2 family dwelling \\ House \\ Residen</th>\n",
              "      <th>Multifamily dwellings \\ Apartments</th>\n",
              "      <th>CALL HOUR</th>\n",
              "      <th>CALL MONTH</th>\n",
              "      <th>CALL DAY OF WEEK</th>\n",
              "    </tr>\n",
              "  </thead>\n",
              "  <tbody>\n",
              "    <tr>\n",
              "      <th>0</th>\n",
              "      <td>No</td>\n",
              "      <td>PLYMOUTH RD / MEYERS RD, Detroit</td>\n",
              "      <td>16</td>\n",
              "      <td>700 - False alarm or false call, other</td>\n",
              "      <td>FALSE ALARM, FALSE CALL</td>\n",
              "      <td>Street, other</td>\n",
              "      <td>E42</td>\n",
              "      <td>2015-01-01</td>\n",
              "      <td>2020-05-14 03:02:47</td>\n",
              "      <td>2015-01-01</td>\n",
              "      <td>2020-05-14 03:04:11</td>\n",
              "      <td>2015-01-01</td>\n",
              "      <td>2020-05-14 03:11:28</td>\n",
              "      <td>2015-01-01</td>\n",
              "      <td>2020-05-14 03:14:06</td>\n",
              "      <td>0</td>\n",
              "      <td>0</td>\n",
              "      <td>0</td>\n",
              "      <td>0</td>\n",
              "      <td>-9258236.220</td>\n",
              "      <td>5217052.339</td>\n",
              "      <td>(5217052.33870992, -9258236.21953809)</td>\n",
              "      <td>Street, other</td>\n",
              "      <td>0</td>\n",
              "      <td>0</td>\n",
              "      <td>0</td>\n",
              "      <td>0</td>\n",
              "      <td>0</td>\n",
              "      <td>0</td>\n",
              "      <td>0</td>\n",
              "      <td>0</td>\n",
              "      <td>0</td>\n",
              "      <td>1</td>\n",
              "      <td>0</td>\n",
              "      <td>0</td>\n",
              "      <td>0</td>\n",
              "      <td>0</td>\n",
              "      <td>0</td>\n",
              "      <td>0</td>\n",
              "      <td>0</td>\n",
              "      <td>0</td>\n",
              "      <td>0</td>\n",
              "      <td>0</td>\n",
              "      <td>0</td>\n",
              "      <td>0</td>\n",
              "      <td>0</td>\n",
              "      <td>0</td>\n",
              "      <td>0</td>\n",
              "      <td>0</td>\n",
              "      <td>0</td>\n",
              "      <td>0</td>\n",
              "      <td>0</td>\n",
              "      <td>0</td>\n",
              "      <td>3</td>\n",
              "      <td>1</td>\n",
              "      <td>3</td>\n",
              "    </tr>\n",
              "    <tr>\n",
              "      <th>1</th>\n",
              "      <td>No</td>\n",
              "      <td>18321 FAUST AVE, Detroit</td>\n",
              "      <td>53</td>\n",
              "      <td>745 - unintentional</td>\n",
              "      <td>FALSE ALARM, FALSE CALL</td>\n",
              "      <td>1 or 2 family dwelling \\ House \\ Residen</td>\n",
              "      <td>E59</td>\n",
              "      <td>2015-01-01</td>\n",
              "      <td>2020-05-14 16:08:33</td>\n",
              "      <td>2015-01-01</td>\n",
              "      <td>2020-05-14 16:10:23</td>\n",
              "      <td>2015-01-01</td>\n",
              "      <td>2020-05-14 16:13:44</td>\n",
              "      <td>2015-01-01</td>\n",
              "      <td>2020-05-14 16:14:45</td>\n",
              "      <td>0</td>\n",
              "      <td>0</td>\n",
              "      <td>0</td>\n",
              "      <td>0</td>\n",
              "      <td>-9264467.798</td>\n",
              "      <td>5224699.499</td>\n",
              "      <td>(5224699.4990991, -9264467.79848532)</td>\n",
              "      <td>1 or 2 family dwelling \\ House \\ Residen</td>\n",
              "      <td>0</td>\n",
              "      <td>0</td>\n",
              "      <td>0</td>\n",
              "      <td>0</td>\n",
              "      <td>0</td>\n",
              "      <td>0</td>\n",
              "      <td>0</td>\n",
              "      <td>0</td>\n",
              "      <td>0</td>\n",
              "      <td>0</td>\n",
              "      <td>0</td>\n",
              "      <td>0</td>\n",
              "      <td>0</td>\n",
              "      <td>0</td>\n",
              "      <td>0</td>\n",
              "      <td>0</td>\n",
              "      <td>0</td>\n",
              "      <td>0</td>\n",
              "      <td>0</td>\n",
              "      <td>0</td>\n",
              "      <td>0</td>\n",
              "      <td>0</td>\n",
              "      <td>0</td>\n",
              "      <td>0</td>\n",
              "      <td>0</td>\n",
              "      <td>0</td>\n",
              "      <td>0</td>\n",
              "      <td>0</td>\n",
              "      <td>1</td>\n",
              "      <td>0</td>\n",
              "      <td>16</td>\n",
              "      <td>1</td>\n",
              "      <td>3</td>\n",
              "    </tr>\n",
              "    <tr>\n",
              "      <th>2</th>\n",
              "      <td>No</td>\n",
              "      <td>18050 HAYES ST, Detroit</td>\n",
              "      <td>75</td>\n",
              "      <td>710 - Malicious, mischievous false call, other</td>\n",
              "      <td>FALSE ALARM, FALSE CALL</td>\n",
              "      <td>1 or 2 family dwelling \\ House \\ Residen</td>\n",
              "      <td>E50</td>\n",
              "      <td>2015-01-01</td>\n",
              "      <td>2020-05-14 21:58:48</td>\n",
              "      <td>2015-01-01</td>\n",
              "      <td>2020-05-14 21:59:41</td>\n",
              "      <td>2015-01-01</td>\n",
              "      <td>2020-05-14 22:03:37</td>\n",
              "      <td>2015-01-01</td>\n",
              "      <td>2020-05-14 22:04:47</td>\n",
              "      <td>0</td>\n",
              "      <td>0</td>\n",
              "      <td>0</td>\n",
              "      <td>0</td>\n",
              "      <td>-9235639.782</td>\n",
              "      <td>5225437.056</td>\n",
              "      <td>(5225437.05637783, -9235639.78220764)</td>\n",
              "      <td>1 or 2 family dwelling \\ House \\ Residen</td>\n",
              "      <td>0</td>\n",
              "      <td>0</td>\n",
              "      <td>0</td>\n",
              "      <td>0</td>\n",
              "      <td>0</td>\n",
              "      <td>0</td>\n",
              "      <td>0</td>\n",
              "      <td>0</td>\n",
              "      <td>0</td>\n",
              "      <td>0</td>\n",
              "      <td>0</td>\n",
              "      <td>0</td>\n",
              "      <td>0</td>\n",
              "      <td>0</td>\n",
              "      <td>0</td>\n",
              "      <td>0</td>\n",
              "      <td>0</td>\n",
              "      <td>0</td>\n",
              "      <td>0</td>\n",
              "      <td>0</td>\n",
              "      <td>0</td>\n",
              "      <td>0</td>\n",
              "      <td>0</td>\n",
              "      <td>0</td>\n",
              "      <td>0</td>\n",
              "      <td>0</td>\n",
              "      <td>0</td>\n",
              "      <td>0</td>\n",
              "      <td>1</td>\n",
              "      <td>0</td>\n",
              "      <td>21</td>\n",
              "      <td>1</td>\n",
              "      <td>3</td>\n",
              "    </tr>\n",
              "  </tbody>\n",
              "</table>\n",
              "</div>"
            ],
            "text/plain": [
              "  EXPOSURE                           ADDRESS  ... CALL MONTH CALL DAY OF WEEK\n",
              "0       No  PLYMOUTH RD / MEYERS RD, Detroit  ...          1                3\n",
              "1       No          18321 FAUST AVE, Detroit  ...          1                3\n",
              "2       No           18050 HAYES ST, Detroit  ...          1                3\n",
              "\n",
              "[3 rows x 56 columns]"
            ]
          },
          "metadata": {
            "tags": []
          },
          "execution_count": 4
        }
      ]
    },
    {
      "cell_type": "markdown",
      "metadata": {
        "id": "Y4HGhMTI5Kt7"
      },
      "source": [
        "I found the dataset [here](https://data.world/detroit/detroit-2015-fire-data). The columns are: exposure, address, incident number, incident type, incident type category, property use, engine area, date of call, time of call, date of dispatch, time of dispatch, date of arrival, time of arrival, date unit cleared, time unit cleared, detector, number civilian injury, number civilian fatality, number fire personell injury, number fire personell fatality, structure status, latitude, longitude, and location (both latitude and longitude). These columns are mostly self explanatory, but I did have to study to learn that \"incident type category\" is more broad categories than \"incident type.\"\n",
        "\n",
        "The first step in my data prepping process was to remove one duplicate row. Then I removed the columns \"Detector\" and \"Structure Status\" because they were both mostly null values. Once I had removed them, only a few columns (less than 10) contained null values, and they were not in any of the columns I needed for my classification models.\n",
        "\n",
        "I converted all time and date columns to datetime objects and created new columns \"Call Hour,\" \"Call Month,\" and \"Call Day of Week\" by extracting this information from the datetimes. \n",
        "\n",
        "The hardest step of the data prep process was that I wanted to use the information from the \"Property use\" column. Previously I've written functions that quickly binarize all the value that appear in the column, but there were too many in this column to do that. There were over 40, and many only had one or two ocurrances. So, I created a new dataframe of the top 25 most common property uses and grouped the rest together in an \"Other\" category. Then I only binarized these top 25 (I experimented with running the models with more or less than 25, and found it to be an appropriate threshold.) \n",
        "\n",
        "I used the following features as independent variables: latitude, longitude, call hour, call month, call day of week, and the binarized property uses. \n"
      ]
    },
    {
      "cell_type": "markdown",
      "metadata": {
        "id": "BCO6GQH3_hyq"
      },
      "source": [
        "#Model Fitting\n",
        "I found myself writing the same code over and over again for different classifiers and trying to figure out which one was the closest to solving my problem. This is what inspired me to create the new benchmark statistic as well as to write a function that tried all of the classifiers and output the best one by each measurement. I first did this with a standard test/train split of the data - disregarding the imbalanced number of false alarms, and got results that are slightly better than chance. Next, I balanced the data - making sure to balance AFTER the test/train split to avoid data leakage - and ran the new training and testing data through the same loop. The results did not improve; they were slightly worse. But in both cases, The Random Forest Classifier stood out as the best model, with GBC also showing high precision. \n",
        "\n",
        "This finding corresponds with the results in [this](https://towardsdatascience.com/comparing-different-classification-machine-learning-models-for-an-imbalanced-dataset-fdae1af3677f) article from <i>Toward Data Science</i> which discusses the best machine learning models for imbalanced datasets. I learned from the article that these two classifiers are actually fairly similar. Both are a forest of decision trees and each tree takes into account different subsets of variables and training data. The difference is that each time the Gradient Boosting Classifier builds a tree, it attempts to fix the mistakes made in the previous ones. \n",
        "\n",
        "Because I did not get much better results with the balanced data, I stuck to the original imbalanced data when tuning hyperparameters. I used a grid search with code from [this](https://towardsdatascience.com/hyperparameter-tuning-the-random-forest-in-python-using-scikit-learn-28d2aa77dd74) article, also from <i>Toward Data Science</i>, and found the following ideal hyperparameters: \n",
        "\n",
        "<ul>\n",
        "<li>bootstrap: True</li>\n",
        "<li>max_depth: 40</li>\n",
        "<li>min_samples_leaf: 2</li>\n",
        "<li>min_samples_split: 10</li>\n",
        "<li>n_estimators: 2000</li>\n",
        "</ul>\n",
        "\n",
        "I ran the same grid search on the GBC model and found these hyperparameters:\n",
        "<ul>\n",
        "<li>learning_rate: .001</li>\n",
        "<li>max_depth: 60</li>\n",
        "<li>min_samples_leaf: 4</li>\n",
        "<li>min_samples_split: 5</li>\n",
        "<li>n_estimators: 1600</li>\n",
        "<li>subsample: .25</li>\n",
        "</ul>\n",
        "\n",
        "Because the grid searches took almost an hour to run, and 4 and a half hours, respectively, I commented them out, but they can be found below. "
      ]
    },
    {
      "cell_type": "code",
      "metadata": {
        "id": "4Ta3vk2molAz",
        "outputId": "96ecf7a8-03e6-4a15-e3fb-1c9a06147b8c",
        "colab": {
          "base_uri": "https://localhost:8080/",
          "height": 228
        }
      },
      "source": [
        "#@title Finding the best model: imbalanced data\n",
        "X_labels=['X', 'Y', 'CALL DAY OF WEEK', 'CALL HOUR', 'CALL MONTH']\n",
        "for label in topPlacesDf['Property Type']:\n",
        "  X_labels.append(str(label))\n",
        "X=fire[X_labels]\n",
        "\n",
        "\n",
        "y=fire['INCIDENT TYPE CATEGORY'].apply(lambda x: 1 if (x=='FALSE ALARM, FALSE CALL') else 0)\n",
        "\n",
        "X_train, X_test, y_train, y_test = train_test_split(X, y, random_state=0)\n",
        "\n",
        "scaler = StandardScaler().fit(X_train)\n",
        "X_train=scaler.transform(X_train)\n",
        "X_test=scaler.transform(X_test)\n",
        "\n",
        "classifiers=[LogisticRegression, RandomForestClassifier, GaussianNB, BernoulliNB, DecisionTreeClassifier, BaggingClassifier, ExtraTreesClassifier, svm.SVC, Perceptron, LDA, MLPClassifier, ABC, GBC, Perceptron]\n",
        "accuracy=[]\n",
        "precision=[]\n",
        "recall=[]\n",
        "f1=[]\n",
        "benchmark=[] #precision*3 + recall /4\n",
        "auc=[]\n",
        "\n",
        "show_max_stats(X_train, X_test, y_train, y_test, classifiers, accuracy, precision, recall, f1, benchmark, auc)\n",
        "'''print(accuracy)\n",
        "print(precision)\n",
        "print(recall)\n",
        "print(f1)\n",
        "print(benchmark)'''\n",
        "\n"
      ],
      "execution_count": null,
      "outputs": [
        {
          "output_type": "stream",
          "text": [
            "/usr/local/lib/python3.6/dist-packages/sklearn/neural_network/_multilayer_perceptron.py:571: ConvergenceWarning: Stochastic Optimizer: Maximum iterations (200) reached and the optimization hasn't converged yet.\n",
            "  % self.max_iter, ConvergenceWarning)\n"
          ],
          "name": "stderr"
        },
        {
          "output_type": "stream",
          "text": [
            "----------------------------------------------------------\n",
            "max accuracy=RandomForestClassifier at 0.7087\n",
            "max precision=GBC at 0.691\n",
            "max recall=Perceptron at 0.4679\n",
            "max f1=DecisionTreeClassifier at 0.4545\n",
            "max benchmark=GBC at 0.5624\n",
            "max auc=RandomForestClassifier at 0.622\n",
            "----------------------------------------------------------\n"
          ],
          "name": "stdout"
        },
        {
          "output_type": "execute_result",
          "data": {
            "text/plain": [
              "'print(accuracy)\\nprint(precision)\\nprint(recall)\\nprint(f1)\\nprint(benchmark)'"
            ]
          },
          "metadata": {
            "tags": []
          },
          "execution_count": 5
        }
      ]
    },
    {
      "cell_type": "code",
      "metadata": {
        "id": "k06AK8nzK2w2",
        "outputId": "726c0058-0521-4482-a818-9de9ae2c1b50",
        "colab": {
          "base_uri": "https://localhost:8080/",
          "height": 228
        }
      },
      "source": [
        "#@title Finding the best model: balanced data { form-width: \"20px\" }\n",
        "fire['Class Label']=fire['INCIDENT TYPE CATEGORY'].apply(lambda x: 1 if (x=='FALSE ALARM, FALSE CALL') else 0)\n",
        "\n",
        "X_labels2=['X', 'Y', 'CALL DAY OF WEEK', 'CALL HOUR', 'CALL MONTH', 'Class Label']\n",
        "for label in topPlacesDf['Property Type']:\n",
        "  X_labels2.append(str(label))  \n",
        "X2=fire[X_labels2]\n",
        "y2=fire['Class Label']\n",
        "\n",
        "X_train2, X_test2, y_train2, y_test2=train_test_split(X2, y2, random_state=0)\n",
        "\n",
        "positive=X_train2[X_train2['Class Label']==1]\n",
        "negative=X_train2[X_train2['Class Label']==0]\n",
        "\n",
        "df_negative_upsampled = resample(negative, replace=True, n_samples=4829, random_state=123)\n",
        "X_train2=pd.concat([positive, df_negative_upsampled])\n",
        "y_train2=X_train2['Class Label']\n",
        "X_train2=X_train2.drop(columns='Class Label')\n",
        "X_test2=X_test2.drop(columns='Class Label')\n",
        "\n",
        "scaler=StandardScaler().fit(X_train2)\n",
        "X_train2=scaler.transform(X_train2)\n",
        "X_test2=scaler.transform(X_test2)\n",
        "\n",
        "\n",
        "classifiers=[LogisticRegression, RandomForestClassifier, GaussianNB, BernoulliNB, DecisionTreeClassifier, BaggingClassifier, ExtraTreesClassifier, svm.SVC, Perceptron, LDA, MLPClassifier, ABC, GBC, Perceptron]\n",
        "accuracy.clear()\n",
        "precision.clear()\n",
        "recall.clear()\n",
        "f1.clear()\n",
        "benchmark.clear() #precision*3 + recall /4\n",
        "auc.clear()\n",
        "\n",
        "show_max_stats(X_train2, X_test2, y_train2, y_test2, classifiers, accuracy, precision, recall, f1, benchmark, auc)\n",
        "'''print(accuracy)\n",
        "print(precision)\n",
        "print(recall)\n",
        "print(f1)\n",
        "print(benchmark)'''\n",
        "\n"
      ],
      "execution_count": null,
      "outputs": [
        {
          "output_type": "stream",
          "text": [
            "/usr/local/lib/python3.6/dist-packages/sklearn/neural_network/_multilayer_perceptron.py:571: ConvergenceWarning: Stochastic Optimizer: Maximum iterations (200) reached and the optimization hasn't converged yet.\n",
            "  % self.max_iter, ConvergenceWarning)\n"
          ],
          "name": "stderr"
        },
        {
          "output_type": "stream",
          "text": [
            "----------------------------------------------------------\n",
            "max accuracy=GaussianNB at 0.6959\n",
            "max precision=GaussianNB at 0.5827\n",
            "max recall=ExtraTreesClassifier at 0.7185\n",
            "max f1=RandomForestClassifier at 0.5534\n",
            "max benchmark=RandomForestClassifier at 0.5172\n",
            "max auc=RandomForestClassifier at 0.6422\n",
            "----------------------------------------------------------\n"
          ],
          "name": "stdout"
        },
        {
          "output_type": "execute_result",
          "data": {
            "text/plain": [
              "'print(accuracy)\\nprint(precision)\\nprint(recall)\\nprint(f1)\\nprint(benchmark)'"
            ]
          },
          "metadata": {
            "tags": []
          },
          "execution_count": 6
        }
      ]
    },
    {
      "cell_type": "code",
      "metadata": {
        "id": "JhQi3gY4643E",
        "outputId": "7b02fbfb-2112-4333-92f0-da2257d97b46",
        "colab": {
          "base_uri": "https://localhost:8080/",
          "height": 72
        }
      },
      "source": [
        "#@title Hyperparameters Grid Search: Random Forest Model { form-width: \"20px\" }\n",
        "from sklearn.model_selection import RandomizedSearchCV\n",
        "n_estimators = [int(x) for x in np.linspace(start = 200, stop = 2000, num = 10)]\n",
        "max_features = ['auto', 'sqrt']\n",
        "max_depth = [int(x) for x in np.linspace(10, 110, num = 11)]\n",
        "max_depth.append(None)\n",
        "min_samples_split = [2, 5, 10]\n",
        "min_samples_leaf = [1, 2, 4]\n",
        "bootstrap = [True, False]\n",
        "random_grid = {'n_estimators': n_estimators,\n",
        "               'max_features': max_features,\n",
        "               'max_depth': max_depth,\n",
        "               'min_samples_split': min_samples_split,\n",
        "               'min_samples_leaf': min_samples_leaf,\n",
        "               'bootstrap': bootstrap}\n",
        "print(random_grid)\n",
        "\n",
        "'''rf = RandomForestClassifier()\n",
        "rf_random = RandomizedSearchCV(estimator = rf, param_distributions = random_grid, n_iter = 100, cv = 3, verbose=2, random_state=42, n_jobs = -1)\n",
        "rf_random.fit(X_train2, y_train2)\n",
        "\n",
        "rf_random.best_params_'''"
      ],
      "execution_count": null,
      "outputs": [
        {
          "output_type": "stream",
          "text": [
            "{'n_estimators': [200, 400, 600, 800, 1000, 1200, 1400, 1600, 1800, 2000], 'max_features': ['auto', 'sqrt'], 'max_depth': [10, 20, 30, 40, 50, 60, 70, 80, 90, 100, 110, None], 'min_samples_split': [2, 5, 10], 'min_samples_leaf': [1, 2, 4], 'bootstrap': [True, False]}\n"
          ],
          "name": "stdout"
        },
        {
          "output_type": "execute_result",
          "data": {
            "text/plain": [
              "'rf = RandomForestClassifier()\\nrf_random = RandomizedSearchCV(estimator = rf, param_distributions = random_grid, n_iter = 100, cv = 3, verbose=2, random_state=42, n_jobs = -1)\\nrf_random.fit(X_train2, y_train2)\\n\\nrf_random.best_params_'"
            ]
          },
          "metadata": {
            "tags": []
          },
          "execution_count": 7
        }
      ]
    },
    {
      "cell_type": "code",
      "metadata": {
        "id": "7X6irma_OAor",
        "cellView": "form",
        "outputId": "73e4b908-51cf-4626-85df-21bc27084d70",
        "colab": {
          "base_uri": "https://localhost:8080/",
          "height": 72
        }
      },
      "source": [
        "#@title Hyperparameters Grid Search: GBC model { form-width: \"20px\" }\n",
        "\n",
        "loss=['deviance', 'exponential']\n",
        "learning_rate=[.1, .05, .001, .2, .3]\n",
        "max_depth=[2, 4, 8, 12]\n",
        "n_estimators = [int(x) for x in np.linspace(start = 200, stop = 2000, num = 10)]\n",
        "subsample=[.25, .5, 1.0]\n",
        "min_samples_split=[2, 5, 10]\n",
        "min_samples_leaf=[1, 2, 4]\n",
        "max_depth = [int(x) for x in np.linspace(10, 110, num = 11)]\n",
        "max_depth.append(None)\n",
        "\n",
        "\n",
        "random_grid = {'loss':loss, 'learning_rate':learning_rate, 'max_depth':max_depth, 'n_estimators':n_estimators, 'subsample':subsample, 'min_samples_split':min_samples_split, 'min_samples_leaf':min_samples_leaf, 'max_depth':max_depth} \n",
        "\n",
        "print(random_grid)\n",
        "\n",
        "'''gbc = GBC()\n",
        "gbc_random = RandomizedSearchCV(estimator = gbc, param_distributions = random_grid, n_iter = 100, cv = 3, verbose=2, random_state=42, n_jobs = -1)\n",
        "gbc_random.fit(X_train, y_train)\n",
        "\n",
        "gbc_random.best_params_'''"
      ],
      "execution_count": null,
      "outputs": [
        {
          "output_type": "stream",
          "text": [
            "{'loss': ['deviance', 'exponential'], 'learning_rate': [0.1, 0.05, 0.001, 0.2, 0.3], 'max_depth': [10, 20, 30, 40, 50, 60, 70, 80, 90, 100, 110, None], 'n_estimators': [200, 400, 600, 800, 1000, 1200, 1400, 1600, 1800, 2000], 'subsample': [0.25, 0.5, 1.0], 'min_samples_split': [2, 5, 10], 'min_samples_leaf': [1, 2, 4]}\n"
          ],
          "name": "stdout"
        },
        {
          "output_type": "execute_result",
          "data": {
            "text/plain": [
              "'gbc = GBC()\\ngbc_random = RandomizedSearchCV(estimator = gbc, param_distributions = random_grid, n_iter = 100, cv = 3, verbose=2, random_state=42, n_jobs = -1)\\ngbc_random.fit(X_train, y_train)\\n\\ngbc_random.best_params_'"
            ]
          },
          "metadata": {
            "tags": []
          },
          "execution_count": 8
        }
      ]
    },
    {
      "cell_type": "markdown",
      "metadata": {
        "id": "i0UOEfAq_mhi"
      },
      "source": [
        "#Model Evaluation and Selection\n",
        "Using a grid search to find the best hyperparameters strengthened both models.\n",
        "\n",
        "####<u>Random Forest Model</u>\n",
        "The hyperparameters decreased the number of false positives from 398 to 263 and increased the benchmark score from .543 to .570, an increase of almost 5%. This came at the cost of some of the true positives - the original hyperparameter-less random forest model classified a record 603 false alarms as actual false alarms, and this number decreased to 506 in the improved model. \n",
        "\n",
        "The main advantage of the Random Forest Model over the GBC is that it is slightly faster, and time is of the essence in a fire department. It also does have a slightly higher AUC, but because false positives have a much higher cost, I do not think this slight difference strongly supports its use over the GBC. \n",
        "\n",
        "####<u>Gradient Boosting Model</u>\n",
        "Adding hyperparemeters to the GBC model increased the benchmark score from .563 to .584, an increase of over 3%, and it classified a significantly more false alarms correctly at 461 (versus 292). However, the number of false positives did increase from 130 to 211. Because this model has the highest benchmark and F1 scores, I consider it to be the most useful model.\n",
        "\n"
      ]
    },
    {
      "cell_type": "code",
      "metadata": {
        "id": "1too3WDnLKy8",
        "outputId": "44c49f9b-2865-446a-9fd0-7586a7c069a2",
        "colab": {
          "base_uri": "https://localhost:8080/",
          "height": 316
        }
      },
      "source": [
        "#@title Final Model A: Random Forest Classifier\n",
        "model=RandomForestClassifier(n_estimators=2000, min_samples_split=10, min_samples_leaf=2, max_features='auto', max_depth=40, bootstrap=True, random_state=42)\n",
        "model.fit(X_train, y_train)\n",
        "y_pred=model.predict(X_test)\n",
        "evaluate_binary(y_test, y_pred)"
      ],
      "execution_count": null,
      "outputs": [
        {
          "output_type": "stream",
          "text": [
            "---------------------------------------------------\n",
            "Accuracy:  0.7177\n",
            "Precision:  0.6601\n",
            "Recall:  0.3049\n",
            "F1:  0.4171\n",
            "Benchmark: 0.5713\n",
            "AUC: 0.6135\n",
            "---------------------------------------------------\n"
          ],
          "name": "stdout"
        },
        {
          "output_type": "display_data",
          "data": {
            "image/png": "[encoded data removed]",
            "text/plain": [
              "<Figure size 432x144 with 2 Axes>"
            ]
          },
          "metadata": {
            "tags": []
          }
        }
      ]
    },
    {
      "cell_type": "code",
      "metadata": {
        "id": "caz6kfUVatoJ",
        "outputId": "83ed82fc-cd7c-4dc7-da93-bba78449c3b8",
        "colab": {
          "base_uri": "https://localhost:8080/",
          "height": 315
        }
      },
      "source": [
        "#@title Final Model B: Gradient Boosting Classifier\n",
        "model=GBC(learning_rate=.001, loss='deviance', max_depth=60, min_samples_leaf=4, min_samples_split=5, n_estimators=1600, subsample=.25, random_state=42)\n",
        "model.fit(X_train, y_train)\n",
        "y_pred=model.predict(X_test)\n",
        "evaluate_binary(y_test, y_pred)"
      ],
      "execution_count": null,
      "outputs": [
        {
          "output_type": "stream",
          "text": [
            "---------------------------------------------------\n",
            "Accuracy:  0.7203\n",
            "Precision:  0.6913\n",
            "Recall:  0.2814\n",
            "F1:  0.4\n",
            "Benchmark: 0.5888\n",
            "AUC: 0.6095\n",
            "---------------------------------------------------\n"
          ],
          "name": "stdout"
        },
        {
          "output_type": "display_data",
          "data": {
            "image/png": "[encoded data removed]",
            "text/plain": [
              "<Figure size 432x144 with 2 Axes>"
            ]
          },
          "metadata": {
            "tags": []
          }
        }
      ]
    },
    {
      "cell_type": "code",
      "metadata": {
        "id": "UGeq0LJWlLTt",
        "outputId": "17a181b6-bdea-447a-cdc8-2cbb752abe8f",
        "colab": {
          "base_uri": "https://localhost:8080/",
          "height": 381
        }
      },
      "source": [
        "importances = model.feature_importances_\n",
        "std = np.std([model.feature_importances_ for tree in model.estimators_],\n",
        "             axis=0)\n",
        "indices = np.argsort(importances)[::-1]\n",
        "\n",
        "# Print the feature ranking\n",
        "print(\"Feature ranking:\")\n",
        "\n",
        "\n"
      ],
      "execution_count": null,
      "outputs": [
        {
          "output_type": "error",
          "ename": "KeyboardInterrupt",
          "evalue": "ignored",
          "traceback": [
            "\u001b[0;31m---------------------------------------------------------------------------\u001b[0m",
            "\u001b[0;31mKeyboardInterrupt\u001b[0m                         Traceback (most recent call last)",
            "\u001b[0;32m<ipython-input-16-0ddf8b4a38a7>\u001b[0m in \u001b[0;36m<module>\u001b[0;34m()\u001b[0m\n\u001b[1;32m      1\u001b[0m \u001b[0mimportances\u001b[0m \u001b[0;34m=\u001b[0m \u001b[0mmodel\u001b[0m\u001b[0;34m.\u001b[0m\u001b[0mfeature_importances_\u001b[0m\u001b[0;34m\u001b[0m\u001b[0;34m\u001b[0m\u001b[0m\n\u001b[0;32m----> 2\u001b[0;31m std = np.std([model.feature_importances_ for tree in model.estimators_],\n\u001b[0m\u001b[1;32m      3\u001b[0m              axis=0)\n\u001b[1;32m      4\u001b[0m \u001b[0mindices\u001b[0m \u001b[0;34m=\u001b[0m \u001b[0mnp\u001b[0m\u001b[0;34m.\u001b[0m\u001b[0margsort\u001b[0m\u001b[0;34m(\u001b[0m\u001b[0mimportances\u001b[0m\u001b[0;34m)\u001b[0m\u001b[0;34m[\u001b[0m\u001b[0;34m:\u001b[0m\u001b[0;34m:\u001b[0m\u001b[0;34m-\u001b[0m\u001b[0;36m1\u001b[0m\u001b[0;34m]\u001b[0m\u001b[0;34m\u001b[0m\u001b[0;34m\u001b[0m\u001b[0m\n\u001b[1;32m      5\u001b[0m \u001b[0;34m\u001b[0m\u001b[0m\n",
            "\u001b[0;32m<ipython-input-16-0ddf8b4a38a7>\u001b[0m in \u001b[0;36m<listcomp>\u001b[0;34m(.0)\u001b[0m\n\u001b[1;32m      1\u001b[0m \u001b[0mimportances\u001b[0m \u001b[0;34m=\u001b[0m \u001b[0mmodel\u001b[0m\u001b[0;34m.\u001b[0m\u001b[0mfeature_importances_\u001b[0m\u001b[0;34m\u001b[0m\u001b[0;34m\u001b[0m\u001b[0m\n\u001b[0;32m----> 2\u001b[0;31m std = np.std([model.feature_importances_ for tree in model.estimators_],\n\u001b[0m\u001b[1;32m      3\u001b[0m              axis=0)\n\u001b[1;32m      4\u001b[0m \u001b[0mindices\u001b[0m \u001b[0;34m=\u001b[0m \u001b[0mnp\u001b[0m\u001b[0;34m.\u001b[0m\u001b[0margsort\u001b[0m\u001b[0;34m(\u001b[0m\u001b[0mimportances\u001b[0m\u001b[0;34m)\u001b[0m\u001b[0;34m[\u001b[0m\u001b[0;34m:\u001b[0m\u001b[0;34m:\u001b[0m\u001b[0;34m-\u001b[0m\u001b[0;36m1\u001b[0m\u001b[0;34m]\u001b[0m\u001b[0;34m\u001b[0m\u001b[0;34m\u001b[0m\u001b[0m\n\u001b[1;32m      5\u001b[0m \u001b[0;34m\u001b[0m\u001b[0m\n",
            "\u001b[0;32m/usr/local/lib/python3.6/dist-packages/sklearn/ensemble/_gb.py\u001b[0m in \u001b[0;36mfeature_importances_\u001b[0;34m(self)\u001b[0m\n\u001b[1;32m   1709\u001b[0m         relevant_feature_importances = [\n\u001b[1;32m   1710\u001b[0m             \u001b[0mtree\u001b[0m\u001b[0;34m.\u001b[0m\u001b[0mtree_\u001b[0m\u001b[0;34m.\u001b[0m\u001b[0mcompute_feature_importances\u001b[0m\u001b[0;34m(\u001b[0m\u001b[0mnormalize\u001b[0m\u001b[0;34m=\u001b[0m\u001b[0;32mFalse\u001b[0m\u001b[0;34m)\u001b[0m\u001b[0;34m\u001b[0m\u001b[0;34m\u001b[0m\u001b[0m\n\u001b[0;32m-> 1711\u001b[0;31m             \u001b[0;32mfor\u001b[0m \u001b[0mtree\u001b[0m \u001b[0;32min\u001b[0m \u001b[0mrelevant_trees\u001b[0m\u001b[0;34m\u001b[0m\u001b[0;34m\u001b[0m\u001b[0m\n\u001b[0m\u001b[1;32m   1712\u001b[0m         ]\n\u001b[1;32m   1713\u001b[0m         avg_feature_importances = np.mean(relevant_feature_importances,\n",
            "\u001b[0;32m/usr/local/lib/python3.6/dist-packages/sklearn/ensemble/_gb.py\u001b[0m in \u001b[0;36m<listcomp>\u001b[0;34m(.0)\u001b[0m\n\u001b[1;32m   1709\u001b[0m         relevant_feature_importances = [\n\u001b[1;32m   1710\u001b[0m             \u001b[0mtree\u001b[0m\u001b[0;34m.\u001b[0m\u001b[0mtree_\u001b[0m\u001b[0;34m.\u001b[0m\u001b[0mcompute_feature_importances\u001b[0m\u001b[0;34m(\u001b[0m\u001b[0mnormalize\u001b[0m\u001b[0;34m=\u001b[0m\u001b[0;32mFalse\u001b[0m\u001b[0;34m)\u001b[0m\u001b[0;34m\u001b[0m\u001b[0;34m\u001b[0m\u001b[0m\n\u001b[0;32m-> 1711\u001b[0;31m             \u001b[0;32mfor\u001b[0m \u001b[0mtree\u001b[0m \u001b[0;32min\u001b[0m \u001b[0mrelevant_trees\u001b[0m\u001b[0;34m\u001b[0m\u001b[0;34m\u001b[0m\u001b[0m\n\u001b[0m\u001b[1;32m   1712\u001b[0m         ]\n\u001b[1;32m   1713\u001b[0m         avg_feature_importances = np.mean(relevant_feature_importances,\n",
            "\u001b[0;31mKeyboardInterrupt\u001b[0m: "
          ]
        }
      ]
    },
    {
      "cell_type": "code",
      "metadata": {
        "id": "yxI7XA7Km8R8",
        "outputId": "24894e47-24a9-49fe-81a3-e53d1c714199",
        "colab": {
          "base_uri": "https://localhost:8080/",
          "height": 1000
        }
      },
      "source": [
        "for f in range(X.shape[1]):\n",
        "    print(X_labels[f])\n",
        "    print(\"%d. feature %d (%f)\" % (f + 1, indices[f], importances[indices[f]]))\n",
        "    print('-------------')"
      ],
      "execution_count": null,
      "outputs": [
        {
          "output_type": "stream",
          "text": [
            "X\n",
            "1. feature 0 (0.291662)\n",
            "-------------\n",
            "Y\n",
            "2. feature 1 (0.283947)\n",
            "-------------\n",
            "CALL DAY OF WEEK\n",
            "3. feature 3 (0.128915)\n",
            "-------------\n",
            "CALL HOUR\n",
            "4. feature 4 (0.111926)\n",
            "-------------\n",
            "CALL MONTH\n",
            "5. feature 2 (0.085545)\n",
            "-------------\n",
            "1 or 2 family dwelling \\ House \\ Residen\n",
            "6. feature 5 (0.020178)\n",
            "-------------\n",
            "Residential street, road or residential\n",
            "7. feature 7 (0.011327)\n",
            "-------------\n",
            "Multifamily dwellings \\ Apartments\n",
            "8. feature 6 (0.008503)\n",
            "-------------\n",
            "Street, other\n",
            "9. feature 17 (0.007082)\n",
            "-------------\n",
            "Residential, other\n",
            "10. feature 8 (0.005606)\n",
            "-------------\n",
            "Highway or divided highway\n",
            "11. feature 19 (0.005188)\n",
            "-------------\n",
            "Street or road in commercial area\n",
            "12. feature 13 (0.004469)\n",
            "-------------\n",
            "Vacant lot\n",
            "13. feature 18 (0.004178)\n",
            "-------------\n",
            "Church, mosque, synagogue, temple, chape\n",
            "14. feature 11 (0.003204)\n",
            "-------------\n",
            "Vehicle parking area\n",
            "15. feature 12 (0.003067)\n",
            "-------------\n",
            "Open land or field\n",
            "16. feature 26 (0.003066)\n",
            "-------------\n",
            "Parking garage, (detached residential ga\n",
            "17. feature 21 (0.003057)\n",
            "-------------\n",
            "24-hour care Nursing homes, 4 or more pe\n",
            "18. feature 22 (0.002573)\n",
            "-------------\n",
            "Manufacturing, processing\n",
            "19. feature 14 (0.002263)\n",
            "-------------\n",
            "Business office\n",
            "20. feature 10 (0.002187)\n",
            "-------------\n",
            "Mercantile, business, other\n",
            "21. feature 9 (0.002174)\n",
            "-------------\n",
            "Elementary school, including kindergarte\n",
            "22. feature 20 (0.001749)\n",
            "-------------\n",
            "Warehouse\n",
            "23. feature 16 (0.001415)\n",
            "-------------\n",
            "Convenience store\n",
            "24. feature 29 (0.001370)\n",
            "-------------\n",
            "Restaurant or cafeteria\n",
            "25. feature 28 (0.001233)\n",
            "-------------\n",
            "Motor vehicle or boat sales, services, r\n",
            "26. feature 31 (0.001057)\n",
            "-------------\n",
            "High school/junior high school/middle sc\n",
            "27. feature 15 (0.001021)\n",
            "-------------\n",
            "Service station, gas station\n",
            "28. feature 24 (0.000372)\n",
            "-------------\n",
            "Undetermined\n",
            "29. feature 32 (0.000360)\n",
            "-------------\n",
            "Schools, non-adult\n",
            "30. feature 30 (0.000318)\n",
            "-------------\n",
            "Outside or special property, other\n",
            "31. feature 25 (0.000285)\n",
            "-------------\n",
            "Hotel/motel, commercial\n",
            "32. feature 33 (0.000239)\n",
            "-------------\n",
            "Food and beverage sales, grocery store\n",
            "33. feature 23 (0.000234)\n",
            "-------------\n",
            "Bar or nightclub\n",
            "34. feature 27 (0.000228)\n",
            "-------------\n"
          ],
          "name": "stdout"
        }
      ]
    },
    {
      "cell_type": "markdown",
      "metadata": {
        "id": "AUGbWN-C_rXE"
      },
      "source": [
        "#Analysis\n",
        "\n",
        "###Results and Operationalizing\n",
        "While I was able to find a better-than-chance predictor with both the Random Forest Classifier and Gradient Boosting Clasifier - evident by the AUCs of .61 - the main takeaway from this research is that false alarms are highly difficult to predict. Especially when you take into account the high cost of a false positive - a predicted False Alarm when it's a real emergency - it is unlikely that a fire department would ever use my model to justify not sending a crew to investigate a call. I think that it is possible that a better model could be formed with more data, but unlikely. Still, the fire departments could use a model like mine to determine which trucks or firefighters should be sent to which locations, or perhaps to investigate where smoke alarms are too sensitive. \n",
        "\n",
        "###Possible Further Research\n",
        "It is possible that this model could be improved if we had a feature explaining how the call was made - was it a phone call, or an automatic call triggered by a smoke alarm, or a pulled fire alarm? Could transcripts of phone calls help as well? \n",
        "\n",
        "Additionally, I had a second question in the back of my mind throughout this process: Can we predict when a fire will result in injuries or fatalities? This may be useful for an ambulance service. I created a binary variable which was a 1 if there were any injuries or fatalities and a 0 if there was not. As in the original question, I tried to find a classification model to predict this label. Finding a model that did not predict everything as \"No injury/fatality\" was taking me too much time, so I decided to dive deeper into my original question instead of looing more into this. Still, it is an area that could be followed up in with more research. I also briefly considered if there were differences in the fire departments' response times based on time of day by working with histograms of time series data, but did not find anything significant. "
      ]
    },
    {
      "cell_type": "markdown",
      "metadata": {
        "id": "6I9p2ca-_sUq"
      },
      "source": [
        "#Conclusion\n",
        "In this lab, I was able to utilize many of the skills I have honed over the course of this semester, including working with time series data, binarizing data, balancing a dataset, choosing the best model given a situation, and tuning hyperparameters. \n",
        "\n",
        "I learned that real world datasets are often not as predictable as some of the ones we have looked at in class, and how to communicate results when this is the case. \n",
        "\n",
        "Something I learned that I didn't expect to is how easy it is to convince myself that my models are good. For example, my best model only misses real emergencies .042% of the time. I could probably convince some people to use it if I harped on numbers like this. But it's important to realize that this is still 211 emergencies that go undetected out of 4,000 calls - given the context, I don't have an incredible model. I think this is an especially important lesson to learn right now, as scientists roll out more tests for COVID-19.  "
      ]
    },
    {
      "cell_type": "markdown",
      "metadata": {
        "id": "--ORsS8z_yt7"
      },
      "source": [
        "#Acknowledgments\n",
        "I did not receive any help on this project except from Dr. Allen. The only help I gave was to suggest to Kristin that she try the Gradient Boosting Classifier because she was also working with an imbalanced dataset and her best results were Random Forest, but she hadn't tried GBC yet. "
      ]
    },
    {
      "cell_type": "markdown",
      "metadata": {
        "id": "rSFfbD5OhIeD"
      },
      "source": [
        "#References\n",
        "Manipulating Data  \n",
        "https://pandas.pydata.org/pandas-docs/version/0.23.4/generated/pandas.Timestamp.html  \n",
        "\n",
        "https://pandas.pydata.org/pandas-docs/stable/reference/api/pandas.DataFrame.drop.html  \n",
        "\n",
        "https://www.datacamp.com/community/tutorials/joining-dataframes-pandas  \n",
        "\n",
        "https://thispointer.com/python-pandas-how-to-drop-rows-in-dataframe-by-conditions-on-column-values/  \n",
        "\n",
        "\n",
        "\n",
        "\n",
        "Displaying Data  \n",
        "https://stackoverflow.com/questions/19233771/sklearn-plot-confusion-matrix-with-labels\n",
        "\n",
        "Choosing a Classifier  \n",
        "https://scikit-learn.org/stable/modules/naive_bayes.html  \n",
        "\n",
        "https://stackabuse.com/overview-of-classification-methods-in-python-with-scikit-learn/  \n",
        "\n",
        "https://scikit-learn.org/stable/modules/neural_networks_supervised.html  \n",
        "\n",
        "https://stackoverflow.com/questions/52763325/how-to-obtain-only-the-name-of-a-models-object-in-scikitlearn\n",
        "\n",
        "https://stackoverflow.com/questions/268272/getting-key-with-maximum-value-in-dictionary\n",
        "\n",
        "Dealing with Imbalanced Data  \n",
        "https://towardsdatascience.com/what-to-do-when-your-classification-dataset-is-imbalanced-6af031b12a36\n",
        "\n",
        "https://towardsdatascience.com/comparing-different-classification-machine-learning-models-for-an-imbalanced-dataset-fdae1af3677f\n",
        "\n",
        "\n",
        "Hyperparameter Tuning/Grid Search  \n",
        "https://towardsdatascience.com/hyperparameter-tuning-the-random-forest-in-python-using-scikit-learn-28d2aa77dd74\n",
        "\n"
      ]
    }
  ]
}